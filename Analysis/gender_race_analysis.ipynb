{
 "cells": [
  {
   "cell_type": "code",
   "execution_count": 1,
   "id": "45aa8c25-9fa8-49b4-ba8d-0dd3c0b7da72",
   "metadata": {},
   "outputs": [],
   "source": [
    "import pandas as pd\n",
    "import sqlite3\n",
    "import json\n",
    "import matplotlib.pyplot as plt\n",
    "from scipy.stats import pearsonr\n",
    "\n",
    "from path_util import data_path"
   ]
  },
  {
   "cell_type": "code",
   "execution_count": 2,
   "id": "0e81890f-5065-4a41-a1d6-a6aa7fb6ead5",
   "metadata": {},
   "outputs": [
    {
     "name": "stdout",
     "output_type": "stream",
     "text": [
      "The number of entries: 1395\n"
     ]
    },
    {
     "data": {
      "text/html": [
       "<div>\n",
       "<style scoped>\n",
       "    .dataframe tbody tr th:only-of-type {\n",
       "        vertical-align: middle;\n",
       "    }\n",
       "\n",
       "    .dataframe tbody tr th {\n",
       "        vertical-align: top;\n",
       "    }\n",
       "\n",
       "    .dataframe thead th {\n",
       "        text-align: right;\n",
       "    }\n",
       "</style>\n",
       "<table border=\"1\" class=\"dataframe\">\n",
       "  <thead>\n",
       "    <tr style=\"text-align: right;\">\n",
       "      <th></th>\n",
       "      <th>occ_code</th>\n",
       "      <th>occ_group</th>\n",
       "      <th>occ_title</th>\n",
       "      <th>lenient_links</th>\n",
       "      <th>lenient_revs</th>\n",
       "      <th>lenient_lengths</th>\n",
       "      <th>women</th>\n",
       "      <th>white</th>\n",
       "      <th>african_american</th>\n",
       "      <th>asian</th>\n",
       "      <th>hispanic</th>\n",
       "    </tr>\n",
       "  </thead>\n",
       "  <tbody>\n",
       "    <tr>\n",
       "      <th>0</th>\n",
       "      <td>11-0000</td>\n",
       "      <td>major</td>\n",
       "      <td>Management Occupations</td>\n",
       "      <td>[[\"Certified Financial Manager\", \"http://en.wi...</td>\n",
       "      <td>{\"Certified Financial Manager\": [{\"revid\": 581...</td>\n",
       "      <td>{\"Certified Financial Manager\": 2611, \"Marketi...</td>\n",
       "      <td>0.409</td>\n",
       "      <td>0.822</td>\n",
       "      <td>0.086</td>\n",
       "      <td>0.065</td>\n",
       "      <td>0.111</td>\n",
       "    </tr>\n",
       "    <tr>\n",
       "      <th>1</th>\n",
       "      <td>11-1000</td>\n",
       "      <td>minor</td>\n",
       "      <td>Top Executives</td>\n",
       "      <td>[[\"General manager\", \"http://en.wikipedia.org/...</td>\n",
       "      <td>{\"General manager\": [{\"revid\": 749862417, \"use...</td>\n",
       "      <td>{\"General manager\": 7116, \"Chief executive off...</td>\n",
       "      <td>null</td>\n",
       "      <td>null</td>\n",
       "      <td>null</td>\n",
       "      <td>null</td>\n",
       "      <td>null</td>\n",
       "    </tr>\n",
       "    <tr>\n",
       "      <th>2</th>\n",
       "      <td>11-1010</td>\n",
       "      <td>broad</td>\n",
       "      <td>Chief Executives</td>\n",
       "      <td>[[\"Chief executive officer\", \"http://en.wikipe...</td>\n",
       "      <td>{\"Chief executive officer\": [{\"revid\": 6437689...</td>\n",
       "      <td>{\"Chief executive officer\": 17489}</td>\n",
       "      <td>0.291</td>\n",
       "      <td>0.857</td>\n",
       "      <td>0.059</td>\n",
       "      <td>0.068</td>\n",
       "      <td>0.074</td>\n",
       "    </tr>\n",
       "    <tr>\n",
       "      <th>3</th>\n",
       "      <td>11-1011</td>\n",
       "      <td>detailed</td>\n",
       "      <td>Chief Executives</td>\n",
       "      <td>[[\"Chief executive officer\", \"http://en.wikipe...</td>\n",
       "      <td>{\"Chief executive officer\": [{\"revid\": 6437689...</td>\n",
       "      <td>{\"Chief executive officer\": 17489}</td>\n",
       "      <td>0.291</td>\n",
       "      <td>0.857</td>\n",
       "      <td>0.059</td>\n",
       "      <td>0.068</td>\n",
       "      <td>0.074</td>\n",
       "    </tr>\n",
       "  </tbody>\n",
       "</table>\n",
       "</div>"
      ],
      "text/plain": [
       "  occ_code occ_group               occ_title  \\\n",
       "0  11-0000     major  Management Occupations   \n",
       "1  11-1000     minor          Top Executives   \n",
       "2  11-1010     broad        Chief Executives   \n",
       "3  11-1011  detailed        Chief Executives   \n",
       "\n",
       "                                       lenient_links  \\\n",
       "0  [[\"Certified Financial Manager\", \"http://en.wi...   \n",
       "1  [[\"General manager\", \"http://en.wikipedia.org/...   \n",
       "2  [[\"Chief executive officer\", \"http://en.wikipe...   \n",
       "3  [[\"Chief executive officer\", \"http://en.wikipe...   \n",
       "\n",
       "                                        lenient_revs  \\\n",
       "0  {\"Certified Financial Manager\": [{\"revid\": 581...   \n",
       "1  {\"General manager\": [{\"revid\": 749862417, \"use...   \n",
       "2  {\"Chief executive officer\": [{\"revid\": 6437689...   \n",
       "3  {\"Chief executive officer\": [{\"revid\": 6437689...   \n",
       "\n",
       "                                     lenient_lengths  women  white  \\\n",
       "0  {\"Certified Financial Manager\": 2611, \"Marketi...  0.409  0.822   \n",
       "1  {\"General manager\": 7116, \"Chief executive off...   null   null   \n",
       "2                 {\"Chief executive officer\": 17489}  0.291  0.857   \n",
       "3                 {\"Chief executive officer\": 17489}  0.291  0.857   \n",
       "\n",
       "  african_american  asian hispanic  \n",
       "0            0.086  0.065    0.111  \n",
       "1             null   null     null  \n",
       "2            0.059  0.068    0.074  \n",
       "3            0.059  0.068    0.074  "
      ]
     },
     "execution_count": 2,
     "metadata": {},
     "output_type": "execute_result"
    }
   ],
   "source": [
    "db_path = data_path / \"data_bases\" / \"all_occupations.db\"\n",
    "\n",
    "con = sqlite3.connect(db_path)\n",
    "\n",
    "df_all = pd.read_sql('SELECT occ_code, occ_group, occ_title, lenient_links, lenient_revs, lenient_lengths, women, white, african_american, asian, hispanic  FROM occupations', con)\n",
    "\n",
    "df = df_all # make sure there is a copy\n",
    "\n",
    "print(\"The number of entries:\", len(df))\n",
    "df.head(4)"
   ]
  },
  {
   "cell_type": "code",
   "execution_count": 3,
   "id": "59442d61-b1d4-4eea-9dff-623ec0eec99a",
   "metadata": {},
   "outputs": [
    {
     "name": "stdout",
     "output_type": "stream",
     "text": [
      "[1.0, 0.128, 0.694, 0.545]\n"
     ]
    },
    {
     "data": {
      "text/plain": [
       "[<matplotlib.lines.Line2D at 0x1789fd15190>]"
      ]
     },
     "execution_count": 3,
     "metadata": {},
     "output_type": "execute_result"
    },
    {
     "data": {
      "image/png": "[encoded data removed]",
      "text/plain": [
       "<Figure size 640x480 with 1 Axes>"
      ]
     },
     "metadata": {},
     "output_type": "display_data"
    }
   ],
   "source": [
    "pct_major = round((len(df.loc[(df['occ_group'] == \"major\") & (df['women'] != \"null\")]) / 22), 3)\n",
    "pct_minor = round((len(df.loc[(df['occ_group'] == \"minor\") & (df['women'] != \"null\")]) / 94), 3)\n",
    "pct_broad = round((len(df.loc[(df['occ_group'] == \"broad\") & (df['women'] != \"null\")]) / 448), 3)\n",
    "pct_detailed = round((len(df.loc[(df['occ_group'] == \"detailed\") & (df['women'] != \"null\")]) / 831), 3)\n",
    "\n",
    "values = [pct_major, pct_minor, pct_broad, pct_detailed]\n",
    "descriptions = [\"major\", \"minor\", \"broad\", \"detailed\"]\n",
    "\n",
    "print(values)\n",
    "plt.plot(descriptions, values)"
   ]
  },
  {
   "cell_type": "markdown",
   "id": "3badbd04-a35f-477a-b80e-d26233529512",
   "metadata": {},
   "source": [
    "## Deleting nulls, parsing floats"
   ]
  },
  {
   "cell_type": "code",
   "execution_count": 4,
   "id": "ca5014d4-89a0-40e4-9165-7fa05d9d5bba",
   "metadata": {},
   "outputs": [],
   "source": [
    "df = df.loc[df['women'] != \"null\"] # delete nulls\n",
    "df = df.dropna()\n",
    "\n",
    "# fix parsing as float and rounding\n",
    "for col in [\"women\", \"white\", \"african_american\", \"asian\", \"hispanic\"]:\n",
    "    df[col] = df[col].astype(float)\n",
    "    df[col] = df[col].apply(lambda x: round(x, 3))"
   ]
  },
  {
   "cell_type": "code",
   "execution_count": 5,
   "id": "32d16b3d-b72e-4293-b953-177a21dff6d5",
   "metadata": {},
   "outputs": [
    {
     "name": "stdout",
     "output_type": "stream",
     "text": [
      "test\n"
     ]
    }
   ],
   "source": [
    "print(\"test\")"
   ]
  }
 ],
 "metadata": {
  "kernelspec": {
   "display_name": "Python 3 (ipykernel)",
   "language": "python",
   "name": "python3"
  },
  "language_info": {
   "codemirror_mode": {
    "name": "ipython",
    "version": 3
   },
   "file_extension": ".py",
   "mimetype": "text/x-python",
   "name": "python",
   "nbconvert_exporter": "python",
   "pygments_lexer": "ipython3",
   "version": "3.9.11"
  }
 },
 "nbformat": 4,
 "nbformat_minor": 5
}

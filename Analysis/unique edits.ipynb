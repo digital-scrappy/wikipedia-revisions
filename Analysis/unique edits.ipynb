{
 "cells": [
  {
   "cell_type": "code",
   "execution_count": null,
   "id": "5790cdfd-395c-428a-804c-4143bd0999c8",
   "metadata": {
    "tags": []
   },
   "outputs": [],
   "source": [
    "import sqlite3\n",
    "from datetime import datetime\n",
    "from Occupation import Occupation\n",
    "import json \n",
    "from pprint import pprint\n",
    "from matplotlib import pyplot as plt\n",
    "from get_page_length_subset_indices import get_subset_indices\n",
    "from plot_page_statistics import plot_page_stats\n",
    "from __future__ import print_function\n",
    "from ipywidgets import interact, interactive, fixed, interact_manual\n",
    "import ipywidgets as widgets\n",
    "from bin_revision_history import month_bin_revisions\n",
    "from count_contributions import contributions_by_user\n",
    "from statistics import median, mean, stdev\n",
    "%matplotlib widget\n",
    "\n",
    "plt.rcParams['figure.dpi'] = 120"
   ]
  },
  {
   "cell_type": "code",
   "execution_count": null,
   "id": "66cb4ee3-756f-43c2-995c-5453a30882bc",
   "metadata": {},
   "outputs": [],
   "source": [
    "def plot_page(occ): # for plotting diff, edits, A, employments\n",
    "    \n",
    "    print(\"lenient links:\")\n",
    "    pprint(occ.lenient_links)\n",
    "    \n",
    "    print(\"\\n\")\n",
    "    print(\"\\n\")\n",
    "    \n",
    "    print(\"strict links:\")\n",
    "    pprint(occ.strict_links)\n",
    "    plot_page_stats(occ)"
   ]
  },
  {
   "cell_type": "markdown",
   "id": "f9b617ef-940a-4f2d-8dbb-8adabec81758",
   "metadata": {},
   "source": [
    "### Getting the occupation-row from the database"
   ]
  },
  {
   "cell_type": "code",
   "execution_count": null,
   "id": "e62d269b-4ac7-477a-93dd-58a2317d3393",
   "metadata": {},
   "outputs": [],
   "source": [
    "db_path = r\"C:\\Users\\leond\\Documents\\Github\\csh\\data\\data_bases\\aggregated_edits.db\"\n",
    "\n",
    "con = sqlite3.connect(db_path)\n",
    "cur = con.cursor()\n",
    "cur.execute(f\"Select * from occupations Where id = 15\") # insert ID\n",
    "occupations = cur.fetchall()\n",
    "print(occupations[0][2])"
   ]
  },
  {
   "cell_type": "markdown",
   "id": "2cfc09ac-050c-46cd-852e-845d43bea4a9",
   "metadata": {},
   "source": [
    "### Wikipedia site"
   ]
  },
  {
   "cell_type": "code",
   "execution_count": null,
   "id": "908a56a1-d87c-4deb-9161-ac5b7ac1ebea",
   "metadata": {},
   "outputs": [],
   "source": [
    "occ = Occupation(*occupations[0])\n",
    "\n",
    "wiki_site_name = \"Auditor\" # name of a given Wiki link (not the SOC profession itself!)\n",
    "wiki_site = month_bin_revisions(occ.lenient_revisions)[wiki_site_name]"
   ]
  },
  {
   "cell_type": "markdown",
   "id": "83866449-e1e3-40dd-8915-df867dd340b2",
   "metadata": {},
   "source": [
    "### Getting unique users per year"
   ]
  },
  {
   "cell_type": "code",
   "execution_count": null,
   "id": "f8e95720-9fe0-4e22-bcd0-59cf980e2de8",
   "metadata": {},
   "outputs": [],
   "source": [
    "def get_unique_year(year): # function that gets the unique site editors in a year\n",
    "    contribs_year = []\n",
    "    for date, number_edits in occ.lenient_binned_edits[wiki_site_name].items():\n",
    "        if year == date.year:\n",
    "            contribs_year.append(contributions_by_user(wiki_site[date]))\n",
    "    unique_contribs = len(set([item[0] for sublist in contribs_year for item in sublist]))\n",
    "    return unique_contribs"
   ]
  },
  {
   "cell_type": "code",
   "execution_count": null,
   "id": "5fd3d436-6f3c-4819-8396-81c2fd341133",
   "metadata": {},
   "outputs": [],
   "source": [
    "# unique_contribs_per_year"
   ]
  },
  {
   "cell_type": "code",
   "execution_count": null,
   "id": "64160220-858a-4791-b05e-286101e5d685",
   "metadata": {
    "tags": []
   },
   "outputs": [],
   "source": [
    "year = (next(iter(occ.lenient_binned_edits[wiki_site_name]))).year # first year in the dict\n",
    "unique_contribs_per_year = []\n",
    "\n",
    "while get_unique_year(year) != 0 or year < (list(occ.lenient_binned_edits[wiki_site_name])[-1]).year:\n",
    "    unique_contribs_per_year.append([year, get_unique_year(year)])\n",
    "    year += 1\n",
    "    \n",
    "unique_contribs_per_year"
   ]
  },
  {
   "cell_type": "markdown",
   "id": "fc9c94c9-4a84-4de6-a079-7cb867aa86d7",
   "metadata": {},
   "source": [
    "### Plotting the unique edits per year"
   ]
  },
  {
   "cell_type": "code",
   "execution_count": null,
   "id": "ef238aa2-46b8-49dd-bd99-57abadfcf317",
   "metadata": {},
   "outputs": [],
   "source": [
    "f = plt.figure()\n",
    "f.set_figwidth(6.5)\n",
    "f.set_figheight(3)\n",
    "\n",
    "year = [item[0] for item in unique_contribs_per_year]\n",
    "unique_contr = [item[1] for item in unique_contribs_per_year]\n",
    "\n",
    "plt.plot(year, unique_contr)\n",
    "plt.show()"
   ]
  },
  {
   "cell_type": "markdown",
   "id": "6e833df5-b3e5-4a0d-8837-3f2a31901bd5",
   "metadata": {},
   "source": [
    "### Plotting the job market data"
   ]
  },
  {
   "cell_type": "code",
   "execution_count": null,
   "id": "18f02343-65c3-4448-a9be-2fcaac673705",
   "metadata": {},
   "outputs": [],
   "source": [
    "plot_page(occ)"
   ]
  }
 ],
 "metadata": {
  "kernelspec": {
   "display_name": "Python 3 (ipykernel)",
   "language": "python",
   "name": "python3"
  },
  "language_info": {
   "codemirror_mode": {
    "name": "ipython",
    "version": 3
   },
   "file_extension": ".py",
   "mimetype": "text/x-python",
   "name": "python",
   "nbconvert_exporter": "python",
   "pygments_lexer": "ipython3",
   "version": "3.9.11"
  }
 },
 "nbformat": 4,
 "nbformat_minor": 5
}
